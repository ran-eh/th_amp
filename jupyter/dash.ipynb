{
 "cells": [
  {
   "cell_type": "code",
   "execution_count": 2,
   "metadata": {},
   "outputs": [],
   "source": [
    "%matplotlib widget\n",
    "import sqlalchemy\n",
    "import pandas as pd\n",
    "import ipywidgets as widgets\n",
    "import numpy as np\n",
    "engine = sqlalchemy.create_engine('postgresql://postgres:postgres@db:5432/weather')"
   ]
  },
  {
   "cell_type": "code",
   "execution_count": 3,
   "metadata": {},
   "outputs": [],
   "source": [
    "# Avoid race with first run of the data service\n",
    "for _ in range(10):\n",
    "    try:\n",
    "        realtime = pd.read_sql(\"SELECT format('%%s,%%s', lat, lon) as latlon, * FROM realtime\", engine)\n",
    "        break;\n",
    "    except:\n",
    "        time.sleep(5)\n",
    "        continue\n",
    "        \n"
   ]
  },
  {
   "cell_type": "code",
   "execution_count": 4,
   "metadata": {},
   "outputs": [
    {
     "data": {
      "application/vnd.jupyter.widget-view+json": {
       "model_id": "5d9374d68a0d4249b83180fe5351230b",
       "version_major": 2,
       "version_minor": 0
      },
      "text/plain": [
       "interactive(children=(Dropdown(description='latlon', options=('25.8600,-97.4200', '25.9000,-97.5200'), value='…"
      ]
     },
     "metadata": {},
     "output_type": "display_data"
    }
   ],
   "source": [
    "@widgets.interact(latlon=realtime['latlon'])\n",
    "def show_realtime(latlon):\n",
    "    df = realtime[realtime['latlon'] == latlon]\n",
    "    return df.loc[:, df.columns != 'latlon'].transpose()\n"
   ]
  },
  {
   "cell_type": "code",
   "execution_count": null,
   "metadata": {},
   "outputs": [],
   "source": [
    "timeline = pd.read_sql(\"select format('%%s,%%s', lat, lon) as latlon, * from timeline\", engine)"
   ]
  },
  {
   "cell_type": "code",
   "execution_count": null,
   "metadata": {},
   "outputs": [],
   "source": [
    "from matplotlib import pyplot as plt\n",
    "@widgets.interact(latlon=realtime['latlon'])\n",
    "def show_timeline(latlon):\n",
    "    # return realtime[realtime['location.lat'] == lat & realtime['location.lon'] == lon]\n",
    "    # return realtime[realtime['latlon'] == latlon].\n",
    "    df = timeline[timeline['latlon'] == latlon]\n",
    "    df = df.loc[:, df.columns != 'latlon']\n",
    "    df = df.sort_values(by=['startTime'])\n",
    "    df.plot(x='startTime', rot=90)\n",
    "    # plt.pause(1e-10)\n"
   ]
  }
 ],
 "metadata": {
  "anaconda-cloud": {},
  "kernelspec": {
   "display_name": "Python 3 (ipykernel)",
   "language": "python",
   "name": "python3"
  },
  "language_info": {
   "codemirror_mode": {
    "name": "ipython",
    "version": 3
   },
   "file_extension": ".py",
   "mimetype": "text/x-python",
   "name": "python",
   "nbconvert_exporter": "python",
   "pygments_lexer": "ipython3",
   "version": "3.11.6"
  }
 },
 "nbformat": 4,
 "nbformat_minor": 4
}
